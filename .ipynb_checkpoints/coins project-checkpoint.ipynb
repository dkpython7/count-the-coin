{
 "cells": [
  {
   "cell_type": "code",
   "execution_count": 1,
   "id": "89207775",
   "metadata": {},
   "outputs": [],
   "source": [
    "import numpy as np\n",
    "import cv2"
   ]
  },
  {
   "cell_type": "code",
   "execution_count": 2,
   "id": "2f3944b2",
   "metadata": {},
   "outputs": [
    {
     "name": "stdout",
     "output_type": "stream",
     "text": [
      "[[[499.5 760.5  91.7]\n",
      "  [684.5 563.5  93.8]\n",
      "  [401.5 133.5  92.8]\n",
      "  [397.5 534.5  76.8]\n",
      "  [199.5 613.5  85.2]\n",
      "  [504.5 340.5  82.7]\n",
      "  [262.5 322.5  75.4]\n",
      "  [745.5 323.5  70.8]\n",
      "  [654.5 117.5  68.7]]]\n"
     ]
    }
   ],
   "source": [
    "img = cv2.imread('1.jpg',cv2.IMREAD_GRAYSCALE)\n",
    "original_image = cv2.GaussianBlur(img, (5,5), 0)\n",
    "\n",
    "circles = cv2.HoughCircles(img,cv2.HOUGH_GRADIENT,0.9,\n",
    "                           120,param1=50,param2=27,minRadius=60,maxRadius=100)\n",
    "print(circles)\n",
    "circles = np.uint16(np.around(circles))\n",
    "count = 0\n",
    "for i in circles[0,:]:\n",
    "    #draw the circle\n",
    "    radius = i[2]\n",
    "    cv2.circle(original_image, (i[0], i[1]), radius, (255, 200, 255), 5)\n",
    "    # Draw the center of the circle\n",
    "    cv2.circle(original_image,(i[0],i[1]),2,(0,0,255),3)\n",
    "    #cv2.putText(original_image,str(count),(i[0],i[1]),cv2.FONT_HERSHEY_SIMPLEX, 2, (0,0,0),2)\n",
    "    count+=1"
   ]
  },
  {
   "cell_type": "code",
   "execution_count": 3,
   "id": "5918a5a0",
   "metadata": {},
   "outputs": [
    {
     "name": "stdout",
     "output_type": "stream",
     "text": [
      "Radius are:  [92, 94, 93, 77, 85, 83, 75, 71, 69]\n",
      "Brightness are:  [103.890625, 152.029375, 73.04125, 57.39875, 63.14, 102.048125, 43.3875, 92.555, 111.475]\n"
     ]
    }
   ],
   "source": [
    "def get_radius(circles2):\n",
    "    radius = []\n",
    "    for coords in circles[0,:]:\n",
    "        radius.append(coords[2])\n",
    "    return radius\n",
    "radii = get_radius(circles)\n",
    "print(\"Radius are: \",radii)\n",
    "\n",
    "\n",
    "def av_pix(img,cirlces, size):\n",
    "    av_value = []\n",
    "    for coords in circles[0,:]:\n",
    "        col = np.mean(img[coords[1]-size:coords[1]+size,coords[0]-size:coords[0]+size])\n",
    "        #print(img[coords[1]-size:coords[1]+size,coords[0]-size:coords[0]+size])\n",
    "        av_value.append(col)\n",
    "    return av_value\n",
    "bright_value = av_pix(img,circles,20)\n",
    "print(\"Brightness are: \",bright_value)\n"
   ]
  },
  {
   "cell_type": "code",
   "execution_count": 4,
   "id": "0bb838a6",
   "metadata": {},
   "outputs": [
    {
     "name": "stdout",
     "output_type": "stream",
     "text": [
      "[10, 10, 10, 1, 5, 5, 1, 1, 2]\n"
     ]
    },
    {
     "data": {
      "text/plain": [
       "array([[166, 165, 164, ..., 201, 201, 201],\n",
       "       [165, 164, 162, ..., 199, 199, 199],\n",
       "       [161, 160, 159, ..., 195, 195, 195],\n",
       "       ...,\n",
       "       [170, 169, 170, ..., 203, 203, 203],\n",
       "       [170, 170, 170, ..., 203, 203, 203],\n",
       "       [170, 170, 170, ..., 203, 203, 203]], dtype=uint8)"
      ]
     },
     "execution_count": 4,
     "metadata": {},
     "output_type": "execute_result"
    }
   ],
   "source": [
    "value = []\n",
    "for a,b in zip(bright_value,radii):\n",
    "    if a>70 and b>90:\n",
    "        value.append(10)\n",
    "    elif 60<a<105 and 80<b<90:\n",
    "        value.append(5)\n",
    "    elif a>105 and b<80:\n",
    "        value.append(2)\n",
    "    elif a<95 and b<80:\n",
    "        value.append(1)\n",
    "print(value)\n",
    "count_2=0\n",
    "for i in circles[0,:]:\n",
    "    cv2.putText(original_image,str(value[count_2]) + \"p\",(i[0],i[1]),cv2.FONT_HERSHEY_SIMPLEX, 2, (0,0,0),2)\n",
    "    count_2+=1\n",
    "cv2.putText(original_image,\"ESTIMATED TOTAL VALUE: \" +str(sum(value)) + \"p\",\n",
    "            (200,100),cv2.FONT_HERSHEY_SIMPLEX, 1.5,20)"
   ]
  },
  {
   "cell_type": "code",
   "execution_count": null,
   "id": "351d95cc",
   "metadata": {},
   "outputs": [],
   "source": [
    "cv2.imshow('Detected coin',original_image)\n",
    "cv2.waitKey(0)\n",
    "cv2.destroyAllWindows()"
   ]
  },
  {
   "cell_type": "code",
   "execution_count": null,
   "id": "a8c1f652",
   "metadata": {},
   "outputs": [],
   "source": []
  }
 ],
 "metadata": {
  "kernelspec": {
   "display_name": "Python 3 (ipykernel)",
   "language": "python",
   "name": "python3"
  },
  "language_info": {
   "codemirror_mode": {
    "name": "ipython",
    "version": 3
   },
   "file_extension": ".py",
   "mimetype": "text/x-python",
   "name": "python",
   "nbconvert_exporter": "python",
   "pygments_lexer": "ipython3",
   "version": "3.11.4"
  }
 },
 "nbformat": 4,
 "nbformat_minor": 5
}
